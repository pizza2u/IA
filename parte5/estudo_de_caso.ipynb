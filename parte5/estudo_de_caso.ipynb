{
  "cells": [
    {
      "cell_type": "markdown",
      "metadata": {
        "id": "umJds8LL3oGS"
      },
      "source": [
        "# **Inteligência Artificial aplicada à Visão Computacional**\n",
        "\n",
        "**Capítulo 8: Visão Computacional aplicada ao reconhecimento de texto**\n",
        "\n",
        "\n",
        "\n",
        "<p align=\"justify\">\n",
        "\n",
        "Todos os direitos reservados à Facti, 2024\n",
        "<p>\n",
        "\n",
        "[www.qualifacti.com.br](https://)\n",
        "\n",
        "---\n",
        "\n",
        "<p align=\"justify\">\n",
        "É importante esclarecer que estas atividades não compõem a avaliação e não haverá correção formal por parte dos instrutores; o objetivo é a autoaprendizagem e prática.\n",
        "<p>\n",
        "\n",
        "---"
      ]
    },
    {
      "cell_type": "markdown",
      "metadata": {
        "id": "ziMVF4U2oeqi"
      },
      "source": [
        "# **Estudo de caso**"
      ]
    },
    {
      "cell_type": "markdown",
      "metadata": {
        "id": "Ad4eMh9UJbEh"
      },
      "source": [
        "## Importando as bibliotecas"
      ]
    },
    {
      "cell_type": "code",
      "execution_count": null,
      "metadata": {
        "id": "SVygxJYhFja_"
      },
      "outputs": [],
      "source": [
        "import tensorflow\n",
        "import numpy as np\n",
        "import pandas as pd\n",
        "import matplotlib.pyplot as plt\n",
        "import seaborn as sns\n",
        "import cv2\n",
        "import zipfile\n",
        "from tensorflow.keras.models import load_model\n",
        "from imutils.contours import sort_contours\n",
        "import imutils\n",
        "from google.colab.patches import cv2_imshow\n",
        "from sklearn.preprocessing import LabelBinarizer\n",
        "from sklearn.model_selection import train_test_split\n",
        "from sklearn.metrics import classification_report"
      ]
    },
    {
      "cell_type": "markdown",
      "metadata": {
        "id": "rte-8dlXe81X"
      },
      "source": [
        "## Carregando as bases de dados"
      ]
    },
    {
      "cell_type": "markdown",
      "metadata": {
        "id": "9vSGpXg2e79y"
      },
      "source": [
        "**Conjunto MNIST 0-9**"
      ]
    },
    {
      "cell_type": "code",
      "execution_count": null,
      "metadata": {
        "id": "rFtntjXSfBWX"
      },
      "outputs": [],
      "source": [
        "from tensorflow.keras.datasets import mnist"
      ]
    },
    {
      "cell_type": "code",
      "execution_count": null,
      "metadata": {
        "id": "EA3h8k7afIMf"
      },
      "outputs": [],
      "source": [
        "(train_data, train_labels), (test_data, test_labels) = mnist.load_data()"
      ]
    },
    {
      "cell_type": "code",
      "execution_count": null,
      "metadata": {
        "id": "gquZ1VsSfKOP"
      },
      "outputs": [],
      "source": [
        "train_data.shape, test_data.shape\n",
        "train_labels.shape, test_labels.shape"
      ]
    },
    {
      "cell_type": "code",
      "execution_count": null,
      "metadata": {
        "id": "4BoZ1SQ7fMlG"
      },
      "outputs": [],
      "source": [
        "digitos_data = np.vstack([train_data, test_data])\n",
        "digitos_labels = np.hstack([train_labels, test_labels])"
      ]
    },
    {
      "cell_type": "code",
      "execution_count": null,
      "metadata": {
        "id": "AlS4ZibofZZ_"
      },
      "outputs": [],
      "source": [
        "np.random.randint(0, digitos_data.shape[0])"
      ]
    },
    {
      "cell_type": "code",
      "execution_count": null,
      "metadata": {
        "id": "XRePgv8Vfd15"
      },
      "outputs": [],
      "source": [
        "indice = np.random.randint(0, digitos_data.shape[0])\n",
        "plt.imshow(digitos_data[indice], cmap='gray')\n",
        "plt.title('Classe: ' + str(digitos_labels[indice]));"
      ]
    },
    {
      "cell_type": "code",
      "execution_count": null,
      "metadata": {
        "id": "wmHoWuJmfhnS"
      },
      "outputs": [],
      "source": [
        "sns.countplot(digitos_labels);"
      ]
    },
    {
      "cell_type": "markdown",
      "metadata": {
        "id": "sJAomBGTfiy1"
      },
      "source": [
        "**Conjunto Kaggle A-Z**"
      ]
    },
    {
      "cell_type": "code",
      "execution_count": null,
      "metadata": {
        "colab": {
          "base_uri": "https://localhost:8080/"
        },
        "id": "GgMd1UkbfmiI",
        "outputId": "b3346641-1674-4baf-db56-2fa5f541d857"
      },
      "outputs": [
        {
          "name": "stdout",
          "output_type": "stream",
          "text": [
            "--2024-01-24 22:06:58--  https://drive.google.com/file/d/1BWkPbX5e76-x4yLxAorfgoSicq5ectx0/view?usp=sharing\n",
            "Resolving drive.google.com (drive.google.com)... 142.251.107.101, 142.251.107.139, 142.251.107.113, ...\n",
            "Connecting to drive.google.com (drive.google.com)|142.251.107.101|:443... connected.\n",
            "HTTP request sent, awaiting response... 200 OK\n",
            "Length: unspecified [text/html]\n",
            "Saving to: ‘view?usp=sharing’\n",
            "\n",
            "view?usp=sharing        [ <=>                ]  83.80K  --.-KB/s    in 0.003s  \n",
            "\n",
            "2024-01-24 22:06:58 (23.8 MB/s) - ‘view?usp=sharing’ saved [85812]\n",
            "\n"
          ]
        }
      ],
      "source": [
        "#!wget https://iaexpert.academy/arquivos/alfabeto_A-Z.zip\n",
        "!wget https://drive.google.com/file/d/1BWkPbX5e76-x4yLxAorfgoSicq5ectx0/view?usp=sharing"
      ]
    },
    {
      "cell_type": "code",
      "execution_count": null,
      "metadata": {
        "id": "S-N-TlKWfrGZ"
      },
      "outputs": [],
      "source": [
        "zip_object = zipfile.ZipFile(file='/content/drive/MyDrive/alfabeto_A-Z.zip', mode = 'r')\n",
        "zip_object.extractall('./')\n",
        "zip_object.close()"
      ]
    },
    {
      "cell_type": "code",
      "execution_count": null,
      "metadata": {
        "id": "oFfJdaU0fwpP"
      },
      "outputs": [],
      "source": [
        "dataset_az = pd.read_csv('/content/A_Z Handwritten Data/A_Z Handwritten Data.csv').astype('float32')"
      ]
    },
    {
      "cell_type": "code",
      "execution_count": null,
      "metadata": {
        "id": "95L74p_AhktA"
      },
      "outputs": [],
      "source": [
        "alfabeto_data = dataset_az.drop('0', axis = 1)\n",
        "alfabeto_labels = dataset_az['0']"
      ]
    },
    {
      "cell_type": "code",
      "execution_count": null,
      "metadata": {
        "id": "l-X54kxphlcQ"
      },
      "outputs": [],
      "source": [
        "alfabeto_labels"
      ]
    },
    {
      "cell_type": "code",
      "execution_count": null,
      "metadata": {
        "id": "g3S1y9e1hriJ"
      },
      "outputs": [],
      "source": [
        "alfabeto_data = np.reshape(alfabeto_data.values, (alfabeto_data.shape[0], 28, 28))"
      ]
    },
    {
      "cell_type": "code",
      "execution_count": null,
      "metadata": {
        "id": "fJ5chDcXhshC"
      },
      "outputs": [],
      "source": [
        "indice = np.random.randint(0, alfabeto_data.shape[0])\n",
        "plt.imshow(alfabeto_data[indice], cmap = 'gray')\n",
        "plt.title('Classe ' + str(alfabeto_labels[indice]));"
      ]
    },
    {
      "cell_type": "code",
      "execution_count": null,
      "metadata": {
        "id": "e7PkdSBMhwsr"
      },
      "outputs": [],
      "source": [
        "sns.countplot(alfabeto_labels);"
      ]
    },
    {
      "cell_type": "markdown",
      "metadata": {
        "id": "bQCtidRjhyc9"
      },
      "source": [
        "**Junção das bases de dados**"
      ]
    },
    {
      "cell_type": "code",
      "execution_count": null,
      "metadata": {
        "id": "FP3N6yYEh11e"
      },
      "outputs": [],
      "source": [
        "digitos_labels, np.unique(digitos_labels)"
      ]
    },
    {
      "cell_type": "code",
      "execution_count": null,
      "metadata": {
        "id": "F-rE1QzWh7GB"
      },
      "outputs": [],
      "source": [
        "alfabeto_labels, np.unique(alfabeto_labels)"
      ]
    },
    {
      "cell_type": "code",
      "execution_count": null,
      "metadata": {
        "id": "pVfKPbboiOp-"
      },
      "outputs": [],
      "source": [
        "alfabeto_labels += 10"
      ]
    },
    {
      "cell_type": "code",
      "execution_count": null,
      "metadata": {
        "id": "rT6ehgOjiV5K"
      },
      "outputs": [],
      "source": [
        "data = np.vstack([alfabeto_data, digitos_data])\n",
        "labels = np.hstack([alfabeto_labels, digitos_labels])"
      ]
    },
    {
      "cell_type": "code",
      "execution_count": null,
      "metadata": {
        "id": "WSjbWxMyiZT-"
      },
      "outputs": [],
      "source": [
        "data = np.array(data, dtype='float32')"
      ]
    },
    {
      "cell_type": "code",
      "execution_count": null,
      "metadata": {
        "id": "m1itnSs5ifU-"
      },
      "outputs": [],
      "source": [
        "data = np.expand_dims(data, axis = -1)"
      ]
    },
    {
      "cell_type": "markdown",
      "metadata": {
        "id": "9RTFdImjiyNl"
      },
      "source": [
        "**Pré-processamento dos dados**"
      ]
    },
    {
      "cell_type": "code",
      "execution_count": null,
      "metadata": {
        "id": "Rw09pKkEi1eI"
      },
      "outputs": [],
      "source": [
        "data[0].min(), data[0].max()\n",
        "data /= 255.0\n",
        "np.unique(labels)"
      ]
    },
    {
      "cell_type": "code",
      "execution_count": null,
      "metadata": {
        "id": "q1l-X-KhjDFY"
      },
      "outputs": [],
      "source": [
        "le = LabelBinarizer()\n",
        "labels = le.fit_transform(labels)"
      ]
    },
    {
      "cell_type": "code",
      "execution_count": null,
      "metadata": {
        "id": "agYnjq6cjIij"
      },
      "outputs": [],
      "source": [
        "classes_total = labels.sum(axis=0)"
      ]
    },
    {
      "cell_type": "code",
      "execution_count": null,
      "metadata": {
        "id": "ldIzugexjt5z"
      },
      "outputs": [],
      "source": [
        "plt.imshow(data[30000].reshape(28,28), cmap='gray')\n",
        "plt.title(str(labels[30000]));"
      ]
    },
    {
      "cell_type": "code",
      "execution_count": null,
      "metadata": {
        "id": "9VUUO5LpkFzz"
      },
      "outputs": [],
      "source": [
        "classes_peso = {}\n",
        "for i in range(0, len(classes_total)):\n",
        "  #print(i)\n",
        "  classes_peso[i] = classes_total.max() / classes_total[i]"
      ]
    },
    {
      "cell_type": "code",
      "execution_count": null,
      "metadata": {
        "id": "vQT13kzQkIBj"
      },
      "outputs": [],
      "source": [
        "X_train, X_test, y_train, y_test = train_test_split(data, labels, test_size=0.2, stratify=labels, random_state = 1)"
      ]
    },
    {
      "cell_type": "code",
      "execution_count": null,
      "metadata": {
        "id": "BeNliNddkLUQ"
      },
      "outputs": [],
      "source": [
        "from tensorflow.keras.preprocessing.image import ImageDataGenerator\n",
        "augmentation = ImageDataGenerator(rotation_range=10, zoom_range=0.05, width_shift_range=0.1,\n",
        "                                  height_shift_range=0.1, horizontal_flip = False)"
      ]
    },
    {
      "cell_type": "markdown",
      "metadata": {
        "id": "73A3Dc8rkPJI"
      },
      "source": [
        "**Criação da estrutura da rede neural**"
      ]
    },
    {
      "cell_type": "code",
      "execution_count": null,
      "metadata": {
        "id": "R34eNjPKkR86"
      },
      "outputs": [],
      "source": [
        "from tensorflow.keras.models import Sequential\n",
        "from tensorflow.keras.layers import Conv2D, MaxPool2D, Flatten, Dense\n",
        "from tensorflow.keras.callbacks import ModelCheckpoint"
      ]
    },
    {
      "cell_type": "code",
      "execution_count": null,
      "metadata": {
        "id": "LVzbOyvykVDs"
      },
      "outputs": [],
      "source": [
        "rede_neural = Sequential()\n",
        "\n",
        "rede_neural.add(Conv2D(filters=32, kernel_size=(3,3), activation='relu', input_shape=(28,28,1)))\n",
        "rede_neural.add(MaxPool2D(pool_size=(2,2)))\n",
        "\n",
        "rede_neural.add(Conv2D(filters=64, kernel_size=(3,3), activation='relu', padding='same'))\n",
        "rede_neural.add(MaxPool2D(pool_size=(2,2)))\n",
        "\n",
        "rede_neural.add(Conv2D(filters=128, kernel_size=(3,3), activation='relu', padding='valid'))\n",
        "rede_neural.add(MaxPool2D(pool_size=(2,2)))\n",
        "\n",
        "rede_neural.add(Flatten())\n",
        "\n",
        "rede_neural.add(Dense(64, activation='relu'))\n",
        "rede_neural.add(Dense(128, activation='relu'))\n",
        "\n",
        "rede_neural.add(Dense(36, activation='softmax'))\n",
        "\n",
        "rede_neural.compile(loss = 'categorical_crossentropy', optimizer = 'adam', metrics = ['accuracy'])"
      ]
    },
    {
      "cell_type": "code",
      "execution_count": null,
      "metadata": {
        "id": "50y62TGikaQ9"
      },
      "outputs": [],
      "source": [
        "rede_neural.summary()"
      ]
    },
    {
      "cell_type": "code",
      "execution_count": null,
      "metadata": {
        "id": "wTX6mO3Nka6Z"
      },
      "outputs": [],
      "source": [
        "nomes_labels = '0123456789'\n",
        "nomes_labels += 'ABCDEFGHIJKLMNOPQRSTUVWXYZ'\n",
        "nomes_labels = [l for l in nomes_labels]"
      ]
    },
    {
      "cell_type": "markdown",
      "metadata": {
        "id": "M7QhmoaNkevA"
      },
      "source": [
        "**Treinamento da rede neural**"
      ]
    },
    {
      "cell_type": "code",
      "execution_count": null,
      "metadata": {
        "id": "g9xcjG82kdgQ"
      },
      "outputs": [],
      "source": [
        "arquivo_modelo = 'manuscrito.model'\n",
        "epochs = 20\n",
        "batch_size = 128"
      ]
    },
    {
      "cell_type": "code",
      "execution_count": null,
      "metadata": {
        "id": "Rj3vFeljklsc"
      },
      "outputs": [],
      "source": [
        "checkpointer = ModelCheckpoint(arquivo_modelo, monitor='val_loss', verbose=1, save_best_only=True)"
      ]
    },
    {
      "cell_type": "code",
      "execution_count": null,
      "metadata": {
        "id": "Hf_Qv51MkmNI"
      },
      "outputs": [],
      "source": [
        "len(X_train) // batch_size"
      ]
    },
    {
      "cell_type": "code",
      "execution_count": null,
      "metadata": {
        "id": "uy2QGTqsknku"
      },
      "outputs": [],
      "source": [
        "history = rede_neural.fit(augmentation.flow(X_train, y_train, batch_size=batch_size),\n",
        "                                            validation_data = (X_test, y_test),\n",
        "                                            steps_per_epoch = len(X_train) // batch_size,\n",
        "                                            epochs = epochs,\n",
        "                                            class_weight = classes_peso,\n",
        "                                            verbose=1, callbacks=[checkpointer])"
      ]
    },
    {
      "cell_type": "markdown",
      "metadata": {
        "id": "3Bxe-cQLkrYY"
      },
      "source": [
        "**Avaliação da rede neural**"
      ]
    },
    {
      "cell_type": "code",
      "execution_count": null,
      "metadata": {
        "id": "cJSFW6dkk37j"
      },
      "outputs": [],
      "source": [
        "previsoes = rede_neural.predict(X_test, batch_size=batch_size)"
      ]
    },
    {
      "cell_type": "code",
      "execution_count": null,
      "metadata": {
        "id": "8gb_Pt8_k68k"
      },
      "outputs": [],
      "source": [
        "len(previsoes[0])"
      ]
    },
    {
      "cell_type": "code",
      "execution_count": null,
      "metadata": {
        "id": "vSiKYT8Ik998"
      },
      "outputs": [],
      "source": [
        "np.argmax(previsoes[0])"
      ]
    },
    {
      "cell_type": "code",
      "execution_count": null,
      "metadata": {
        "id": "tzSXf897lCyP"
      },
      "outputs": [],
      "source": [
        "rede_neural.evaluate(X_test, y_test)"
      ]
    },
    {
      "cell_type": "code",
      "execution_count": null,
      "metadata": {
        "id": "29zu3wb0lDVX"
      },
      "outputs": [],
      "source": [
        "history.history.keys()"
      ]
    },
    {
      "cell_type": "code",
      "execution_count": null,
      "metadata": {
        "id": "5n9x65jblHJn"
      },
      "outputs": [],
      "source": [
        "plt.plot(history.history['val_loss']);"
      ]
    },
    {
      "cell_type": "code",
      "execution_count": null,
      "metadata": {
        "id": "x7jCWMBnlKZ0"
      },
      "outputs": [],
      "source": [
        "plt.plot(history.history['val_accuracy']);"
      ]
    },
    {
      "cell_type": "markdown",
      "metadata": {
        "id": "-E7zYXrrlMU2"
      },
      "source": [
        "**Salvando o modelo no Google Drive**"
      ]
    },
    {
      "cell_type": "markdown",
      "metadata": {
        "id": "aEr1AR_rJg1x"
      },
      "source": [
        "## Conectando com o Drive e acessando os arquivos\n",
        "\n",
        "Carregando a rede neural\n",
        "\n"
      ]
    },
    {
      "cell_type": "code",
      "execution_count": null,
      "metadata": {
        "colab": {
          "base_uri": "https://localhost:8080/"
        },
        "id": "1iMeVP4nF-9k",
        "outputId": "a8418c35-fa44-4131-acec-0972ea8ede2a"
      },
      "outputs": [
        {
          "name": "stdout",
          "output_type": "stream",
          "text": [
            "Mounted at /content/drive\n"
          ]
        }
      ],
      "source": [
        "from google.colab import drive\n",
        "drive.mount('/content/drive')"
      ]
    },
    {
      "cell_type": "code",
      "execution_count": null,
      "metadata": {
        "id": "0f-vdWpmF3hn"
      },
      "outputs": [],
      "source": [
        "# Realize o dowload da pasta Material_complementar_reconhecimento_texto.zip do Google Sala de Aula e transira-a para o seu Google Drive\n",
        "# Localize o caminho da pasta no menu Arquivos, no menu lateral esquerdo\n",
        "path = \"/content/drive/MyDrive/Material_complementar_reconhecimento_texto.zip\"\n",
        "zip_object = zipfile.ZipFile(file=path, mode=\"r\")\n",
        "zip_object.extractall(\"./\")"
      ]
    },
    {
      "cell_type": "code",
      "execution_count": null,
      "metadata": {
        "colab": {
          "base_uri": "https://localhost:8080/"
        },
        "id": "1_o8KFYWGS4Z",
        "outputId": "9b628149-da95-47c6-fd1e-255d16fa3b85"
      },
      "outputs": [
        {
          "name": "stdout",
          "output_type": "stream",
          "text": [
            "Model: \"sequential_1\"\n",
            "_________________________________________________________________\n",
            " Layer (type)                Output Shape              Param #   \n",
            "=================================================================\n",
            " conv2d_3 (Conv2D)           (None, 26, 26, 32)        320       \n",
            "                                                                 \n",
            " max_pooling2d_3 (MaxPoolin  (None, 13, 13, 32)        0         \n",
            " g2D)                                                            \n",
            "                                                                 \n",
            " conv2d_4 (Conv2D)           (None, 13, 13, 64)        18496     \n",
            "                                                                 \n",
            " max_pooling2d_4 (MaxPoolin  (None, 6, 6, 64)          0         \n",
            " g2D)                                                            \n",
            "                                                                 \n",
            " conv2d_5 (Conv2D)           (None, 4, 4, 128)         73856     \n",
            "                                                                 \n",
            " max_pooling2d_5 (MaxPoolin  (None, 2, 2, 128)         0         \n",
            " g2D)                                                            \n",
            "                                                                 \n",
            " flatten_1 (Flatten)         (None, 512)               0         \n",
            "                                                                 \n",
            " dense_3 (Dense)             (None, 64)                32832     \n",
            "                                                                 \n",
            " dense_4 (Dense)             (None, 128)               8320      \n",
            "                                                                 \n",
            " dense_5 (Dense)             (None, 36)                4644      \n",
            "                                                                 \n",
            "=================================================================\n",
            "Total params: 138468 (540.89 KB)\n",
            "Trainable params: 138468 (540.89 KB)\n",
            "Non-trainable params: 0 (0.00 Byte)\n",
            "_________________________________________________________________\n"
          ]
        }
      ],
      "source": [
        "rede_neural = load_model('/content/modelos/rede_neural')\n",
        "rede_neural.summary()"
      ]
    },
    {
      "cell_type": "markdown",
      "metadata": {
        "id": "OF7r6uheJoO7"
      },
      "source": [
        "## Carregando a imagem de teste"
      ]
    },
    {
      "cell_type": "code",
      "execution_count": null,
      "metadata": {
        "id": "8OUaMkpIGeXu"
      },
      "outputs": [],
      "source": [
        "img = cv2.imread('/content/imagens/manuscrito1.jpg')\n",
        "cv2_imshow(img)"
      ]
    },
    {
      "cell_type": "code",
      "execution_count": null,
      "metadata": {
        "colab": {
          "base_uri": "https://localhost:8080/",
          "height": 1000
        },
        "id": "v4nhXF0jInYt",
        "outputId": "4cd7da46-a0b8-413d-99e6-531cfe74e279"
      },
      "outputs": [],
      "source": [
        "gray = cv2.cvtColor(img, cv2.COLOR_BGR2GRAY)\n",
        "cv2_imshow(gray)"
      ]
    },
    {
      "cell_type": "markdown",
      "metadata": {
        "id": "3ZQpTJvzOzTK"
      },
      "source": [
        "## Pré-processamento da imagem"
      ]
    },
    {
      "cell_type": "code",
      "execution_count": null,
      "metadata": {
        "colab": {
          "base_uri": "https://localhost:8080/",
          "height": 1000
        },
        "id": "EKclupJwH1gW",
        "outputId": "235e47d3-1cd1-4bfc-c060-2d7f140e9c84"
      },
      "outputs": [],
      "source": [
        "desfoque = cv2.GaussianBlur(gray, (3,3), 0)\n",
        "cv2_imshow(desfoque)"
      ]
    },
    {
      "cell_type": "code",
      "execution_count": null,
      "metadata": {
        "colab": {
          "base_uri": "https://localhost:8080/",
          "height": 302
        },
        "id": "Pgo439tRIbqC",
        "outputId": "11362ec5-8827-4e0b-cb41-3f1b2b60590a"
      },
      "outputs": [
        {
          "data": {
            "image/png": "[encoded data removed]",
            "text/plain": [
              "<PIL.Image.Image image mode=L size=730x285>"
            ]
          },
          "metadata": {},
          "output_type": "display_data"
        }
      ],
      "source": [
        "adapt_media = cv2.adaptiveThreshold(desfoque, 255, cv2.ADAPTIVE_THRESH_GAUSSIAN_C, cv2.THRESH_BINARY, 11, 9)\n",
        "cv2_imshow(adapt_media)"
      ]
    },
    {
      "cell_type": "code",
      "execution_count": null,
      "metadata": {
        "colab": {
          "base_uri": "https://localhost:8080/",
          "height": 302
        },
        "id": "ZbOkVTpnI30O",
        "outputId": "8f8318cc-828e-45b0-ca83-05c41fbc9171"
      },
      "outputs": [
        {
          "data": {
            "image/png": "[encoded data removed]",
            "text/plain": [
              "<PIL.Image.Image image mode=L size=730x285>"
            ]
          },
          "metadata": {},
          "output_type": "display_data"
        }
      ],
      "source": [
        "inv = 255 - adapt_media\n",
        "cv2_imshow(inv)"
      ]
    },
    {
      "cell_type": "code",
      "execution_count": null,
      "metadata": {
        "colab": {
          "base_uri": "https://localhost:8080/",
          "height": 302
        },
        "id": "kyZPgEy8JQK6",
        "outputId": "3676a37c-eada-4054-80c2-7828213c82c7"
      },
      "outputs": [
        {
          "data": {
            "image/png": "[encoded data removed]",
            "text/plain": [
              "<PIL.Image.Image image mode=L size=730x285>"
            ]
          },
          "metadata": {},
          "output_type": "display_data"
        }
      ],
      "source": [
        "dilatado = cv2.dilate(inv, np.ones((3,3)))\n",
        "cv2_imshow(dilatado)"
      ]
    },
    {
      "cell_type": "code",
      "execution_count": null,
      "metadata": {
        "colab": {
          "base_uri": "https://localhost:8080/",
          "height": 302
        },
        "id": "8SSCZmEaJ0y_",
        "outputId": "448c7e14-d646-42ac-8754-5837a619081f"
      },
      "outputs": [
        {
          "data": {
            "image/png": "[encoded data removed]",
            "text/plain": [
              "<PIL.Image.Image image mode=L size=730x285>"
            ]
          },
          "metadata": {},
          "output_type": "display_data"
        }
      ],
      "source": [
        "bordas = cv2.Canny(desfoque, 40, 150)\n",
        "cv2_imshow(bordas)"
      ]
    },
    {
      "cell_type": "code",
      "execution_count": null,
      "metadata": {
        "colab": {
          "base_uri": "https://localhost:8080/",
          "height": 302
        },
        "id": "dXljGWvEKlff",
        "outputId": "91d1dfd2-bd0d-4733-91d8-587c45cee851"
      },
      "outputs": [
        {
          "data": {
            "image/png": "[encoded data removed]",
            "text/plain": [
              "<PIL.Image.Image image mode=L size=730x285>"
            ]
          },
          "metadata": {},
          "output_type": "display_data"
        }
      ],
      "source": [
        "dilatado = cv2.dilate(bordas, np.ones((3,3)))\n",
        "cv2_imshow(dilatado)"
      ]
    },
    {
      "cell_type": "markdown",
      "metadata": {
        "id": "h7HXuxCxEqS1"
      },
      "source": [
        "## Detecção de contornos"
      ]
    },
    {
      "cell_type": "code",
      "execution_count": null,
      "metadata": {
        "id": "I7IACHPYMwNz"
      },
      "outputs": [],
      "source": [
        "def encontrar_contornos(img):\n",
        "  conts = cv2.findContours(img, cv2.RETR_EXTERNAL, cv2.CHAIN_APPROX_SIMPLE)\n",
        "  conts = imutils.grab_contours(conts)\n",
        "  conts = sort_contours(conts, method='left-to-right')[0]\n",
        "  return conts"
      ]
    },
    {
      "cell_type": "code",
      "execution_count": null,
      "metadata": {
        "id": "hd3JpL2_Of6R"
      },
      "outputs": [],
      "source": [
        "conts = encontrar_contornos(dilatado.copy())"
      ]
    },
    {
      "cell_type": "code",
      "execution_count": null,
      "metadata": {
        "id": "zMXAsCb0O30f"
      },
      "outputs": [],
      "source": [
        "l_min, l_max = 4, 160\n",
        "a_min, a_max = 14, 140"
      ]
    },
    {
      "cell_type": "code",
      "execution_count": null,
      "metadata": {
        "colab": {
          "base_uri": "https://localhost:8080/",
          "height": 450
        },
        "id": "0plz-2-hPO4a",
        "outputId": "4df39124-9c21-477a-8715-6be4f7224646"
      },
      "outputs": [
        {
          "data": {
            "image/png": "[encoded data removed]",
            "text/plain": [
              "<PIL.Image.Image image mode=L size=39x34>"
            ]
          },
          "metadata": {},
          "output_type": "display_data"
        },
        {
          "data": {
            "image/png": "[encoded data removed]",
            "text/plain": [
              "<PIL.Image.Image image mode=L size=24x34>"
            ]
          },
          "metadata": {},
          "output_type": "display_data"
        },
        {
          "data": {
            "image/png": "[encoded data removed]",
            "text/plain": [
              "<PIL.Image.Image image mode=L size=23x36>"
            ]
          },
          "metadata": {},
          "output_type": "display_data"
        },
        {
          "data": {
            "image/png": "[encoded data removed]",
            "text/plain": [
              "<PIL.Image.Image image mode=L size=28x28>"
            ]
          },
          "metadata": {},
          "output_type": "display_data"
        },
        {
          "data": {
            "image/png": "[encoded data removed]",
            "text/plain": [
              "<PIL.Image.Image image mode=L size=19x31>"
            ]
          },
          "metadata": {},
          "output_type": "display_data"
        },
        {
          "data": {
            "image/png": "[encoded data removed]",
            "text/plain": [
              "<PIL.Image.Image image mode=L size=22x34>"
            ]
          },
          "metadata": {},
          "output_type": "display_data"
        },
        {
          "data": {
            "image/png": "[encoded data removed]",
            "text/plain": [
              "<PIL.Image.Image image mode=L size=24x32>"
            ]
          },
          "metadata": {},
          "output_type": "display_data"
        },
        {
          "data": {
            "image/png": "[encoded data removed]",
            "text/plain": [
              "<PIL.Image.Image image mode=L size=20x26>"
            ]
          },
          "metadata": {},
          "output_type": "display_data"
        },
        {
          "data": {
            "image/png": "[encoded data removed]",
            "text/plain": [
              "<PIL.Image.Image image mode=L size=21x25>"
            ]
          },
          "metadata": {},
          "output_type": "display_data"
        },
        {
          "data": {
            "image/png": "[encoded data removed]",
            "text/plain": [
              "<PIL.Image.Image image mode=L size=27x25>"
            ]
          },
          "metadata": {},
          "output_type": "display_data"
        },
        {
          "data": {
            "image/png": "[encoded data removed]",
            "text/plain": [
              "<PIL.Image.Image image mode=L size=17x23>"
            ]
          },
          "metadata": {},
          "output_type": "display_data"
        },
        {
          "data": {
            "image/png": "[encoded data removed]",
            "text/plain": [
              "<PIL.Image.Image image mode=L size=18x28>"
            ]
          },
          "metadata": {},
          "output_type": "display_data"
        },
        {
          "data": {
            "image/png": "[encoded data removed]",
            "text/plain": [
              "<PIL.Image.Image image mode=L size=18x26>"
            ]
          },
          "metadata": {},
          "output_type": "display_data"
        },
        {
          "data": {
            "image/png": "[encoded data removed]",
            "text/plain": [
              "<PIL.Image.Image image mode=L size=18x27>"
            ]
          },
          "metadata": {},
          "output_type": "display_data"
        },
        {
          "data": {
            "image/png": "[encoded data removed]",
            "text/plain": [
              "<PIL.Image.Image image mode=L size=22x24>"
            ]
          },
          "metadata": {},
          "output_type": "display_data"
        }
      ],
      "source": [
        "caracteres = []\n",
        "img_cp = img.copy()\n",
        "for c in conts:\n",
        "  #print(c)\n",
        "  (x, y, w, h) = cv2.boundingRect(c)\n",
        "  #print(x, y, w, h)\n",
        "  if (w >= l_min and w <= l_max) and (h >= a_min and h <= a_max):\n",
        "    roi = gray[y:y+ h, x:x + w]\n",
        "    #cv2_imshow(roi)\n",
        "    thresh = cv2.threshold(roi, 0, 255, cv2.THRESH_BINARY_INV | cv2.THRESH_OTSU)[1]\n",
        "    cv2_imshow(thresh)\n",
        "    cv2.rectangle(img_cp, (x, y), (x + w, y + h), (255, 100, 0), 2)\n",
        "cv2_imshow(img_cp)"
      ]
    },
    {
      "cell_type": "markdown",
      "metadata": {
        "id": "5KuoWY8e5Jo-"
      },
      "source": [
        "## Processando os caracteres detectados"
      ]
    },
    {
      "cell_type": "markdown",
      "metadata": {
        "id": "rZLzgZkmmP6A"
      },
      "source": [
        "## Extração ROI\n"
      ]
    },
    {
      "cell_type": "code",
      "execution_count": null,
      "metadata": {
        "id": "EvTeew0MiNpd"
      },
      "outputs": [],
      "source": [
        "def extra_roi(img):\n",
        "  roi = img[y:y + h, x:x + w]\n",
        "  return roi"
      ]
    },
    {
      "cell_type": "markdown",
      "metadata": {
        "id": "O-vh-uyLphnR"
      },
      "source": [
        "## Limiarização"
      ]
    },
    {
      "cell_type": "code",
      "execution_count": null,
      "metadata": {
        "id": "pOeTA0DpifQB"
      },
      "outputs": [],
      "source": [
        "def limiarizacao(img):\n",
        "  thresh = cv2.threshold(img, 0, 255, cv2.THRESH_BINARY_INV | cv2.THRESH_OTSU)[1]\n",
        "  return thresh"
      ]
    },
    {
      "cell_type": "markdown",
      "metadata": {
        "id": "5L3OmVN95T4b"
      },
      "source": [
        "## Redimensionamento"
      ]
    },
    {
      "cell_type": "code",
      "execution_count": null,
      "metadata": {
        "id": "T0u5W8oNiu31"
      },
      "outputs": [],
      "source": [
        "def redimensiona_img(img, l, a):\n",
        "  if l > a:\n",
        "    redimensionada = imutils.resize(img, width=28)\n",
        "  else:\n",
        "    redimensionada = imutils.resize(img, height=28)\n",
        "\n",
        "  (a, l) = redimensionada.shape\n",
        "  dX = int(max(0, 28 - l) / 2.0)\n",
        "  dY = int(max(0, 28 - a) / 2.0)\n",
        "\n",
        "  preenchida = cv2.copyMakeBorder(redimensionada, top=dY, bottom=dY, right=dX, left=dX, borderType=cv2.BORDER_CONSTANT, value=(0,0,0))\n",
        "  preenchida = cv2.resize(preenchida, (28, 28))\n",
        "  return preenchida"
      ]
    },
    {
      "cell_type": "code",
      "execution_count": null,
      "metadata": {
        "id": "umaTIXOtlJDn"
      },
      "outputs": [],
      "source": [
        "(x, y, w, h) = cv2.boundingRect(conts[6])\n",
        "print(x, y, w, h)\n",
        "img_teste = limiarizacao(gray[y:y+h, x:x+w])\n",
        "cv2_imshow(img_teste)\n",
        "(a, l) = img_teste.shape\n",
        "print(a, l)\n",
        "img_teste2 = redimensiona_img(img_teste, l, a)\n",
        "cv2_imshow(img_teste2)\n",
        "img_teste2.shape"
      ]
    },
    {
      "cell_type": "code",
      "execution_count": null,
      "metadata": {
        "id": "DAT8QD5jl8V5"
      },
      "outputs": [],
      "source": [
        "cv2_imshow(cv2.resize(img_teste, (28,28)))"
      ]
    },
    {
      "cell_type": "markdown",
      "metadata": {
        "id": "_RLNulfxoAPe"
      },
      "source": [
        "## Normalização"
      ]
    },
    {
      "cell_type": "code",
      "execution_count": null,
      "metadata": {
        "id": "CzOKwOFCmwWb"
      },
      "outputs": [],
      "source": [
        "def normalizacao(img):\n",
        "  img = img.astype('float32') / 255.0\n",
        "  img = np.expand_dims(img, axis=-1)\n",
        "  return img"
      ]
    },
    {
      "cell_type": "code",
      "execution_count": null,
      "metadata": {
        "id": "C0M5KD83nJ0f"
      },
      "outputs": [],
      "source": [
        "img_teste2.shape, normalizacao(img_teste2).shape"
      ]
    },
    {
      "cell_type": "markdown",
      "metadata": {
        "id": "STspELE3qDr1"
      },
      "source": [
        "## Processamento das detecções"
      ]
    },
    {
      "cell_type": "code",
      "execution_count": null,
      "metadata": {
        "id": "hE8QRpajnUYN"
      },
      "outputs": [],
      "source": [
        "def processa_caixa(gray, x, y, w, h):\n",
        "  roi = extra_roi(gray)\n",
        "  limiar = limiarizacao(roi)\n",
        "  (a, l) = limiar.shape\n",
        "  redimensionada = redimensiona_img(limiar, l, a)\n",
        "  cv2_imshow(redimensionada)\n",
        "  normalizada = normalizacao(redimensionada)\n",
        "  caracteres.append((normalizada, (x, y, w, h)))"
      ]
    },
    {
      "cell_type": "code",
      "execution_count": null,
      "metadata": {
        "colab": {
          "base_uri": "https://localhost:8080/",
          "height": 437
        },
        "id": "GlUp4TmHnuae",
        "outputId": "f9db2c43-5b7a-4f5f-ed5e-bd20a78fbf03"
      },
      "outputs": [
        {
          "data": {
            "image/png": "[encoded data removed]",
            "text/plain": [
              "<PIL.Image.Image image mode=L size=28x28>"
            ]
          },
          "metadata": {},
          "output_type": "display_data"
        },
        {
          "data": {
            "image/png": "[encoded data removed]",
            "text/plain": [
              "<PIL.Image.Image image mode=L size=28x28>"
            ]
          },
          "metadata": {},
          "output_type": "display_data"
        },
        {
          "data": {
            "image/png": "[encoded data removed]",
            "text/plain": [
              "<PIL.Image.Image image mode=L size=28x28>"
            ]
          },
          "metadata": {},
          "output_type": "display_data"
        },
        {
          "data": {
            "image/png": "[encoded data removed]",
            "text/plain": [
              "<PIL.Image.Image image mode=L size=28x28>"
            ]
          },
          "metadata": {},
          "output_type": "display_data"
        },
        {
          "data": {
            "image/png": "[encoded data removed]",
            "text/plain": [
              "<PIL.Image.Image image mode=L size=28x28>"
            ]
          },
          "metadata": {},
          "output_type": "display_data"
        },
        {
          "data": {
            "image/png": "[encoded data removed]",
            "text/plain": [
              "<PIL.Image.Image image mode=L size=28x28>"
            ]
          },
          "metadata": {},
          "output_type": "display_data"
        },
        {
          "data": {
            "image/png": "[encoded data removed]",
            "text/plain": [
              "<PIL.Image.Image image mode=L size=28x28>"
            ]
          },
          "metadata": {},
          "output_type": "display_data"
        },
        {
          "data": {
            "image/png": "[encoded data removed]",
            "text/plain": [
              "<PIL.Image.Image image mode=L size=28x28>"
            ]
          },
          "metadata": {},
          "output_type": "display_data"
        },
        {
          "data": {
            "image/png": "[encoded data removed]",
            "text/plain": [
              "<PIL.Image.Image image mode=L size=28x28>"
            ]
          },
          "metadata": {},
          "output_type": "display_data"
        },
        {
          "data": {
            "image/png": "[encoded data removed]",
            "text/plain": [
              "<PIL.Image.Image image mode=L size=28x28>"
            ]
          },
          "metadata": {},
          "output_type": "display_data"
        },
        {
          "data": {
            "image/png": "[encoded data removed]",
            "text/plain": [
              "<PIL.Image.Image image mode=L size=28x28>"
            ]
          },
          "metadata": {},
          "output_type": "display_data"
        },
        {
          "data": {
            "image/png": "[encoded data removed]",
            "text/plain": [
              "<PIL.Image.Image image mode=L size=28x28>"
            ]
          },
          "metadata": {},
          "output_type": "display_data"
        },
        {
          "data": {
            "image/png": "[encoded data removed]",
            "text/plain": [
              "<PIL.Image.Image image mode=L size=28x28>"
            ]
          },
          "metadata": {},
          "output_type": "display_data"
        },
        {
          "data": {
            "image/png": "[encoded data removed]",
            "text/plain": [
              "<PIL.Image.Image image mode=L size=28x28>"
            ]
          },
          "metadata": {},
          "output_type": "display_data"
        },
        {
          "data": {
            "image/png": "[encoded data removed]",
            "text/plain": [
              "<PIL.Image.Image image mode=L size=28x28>"
            ]
          },
          "metadata": {},
          "output_type": "display_data"
        }
      ],
      "source": [
        "for c in conts:\n",
        "  #print(c)\n",
        "  (x, y, w, h) = cv2.boundingRect(c)\n",
        "  if (w >= l_min and w <= l_max) and (h >= a_min and h <= a_max):\n",
        "    processa_caixa(gray, x, y, w, h)"
      ]
    },
    {
      "cell_type": "code",
      "execution_count": null,
      "metadata": {
        "id": "mus509POonoz"
      },
      "outputs": [],
      "source": [
        "caixas = [caixa[1] for caixa in caracteres]"
      ]
    },
    {
      "cell_type": "code",
      "execution_count": null,
      "metadata": {
        "id": "lcXUh7KAox8i"
      },
      "outputs": [],
      "source": [
        "caracteres = np.array([c[0] for c in caracteres], dtype='float32')"
      ]
    },
    {
      "cell_type": "markdown",
      "metadata": {
        "id": "EquI0_vleUFZ"
      },
      "source": [
        "# Reconhecimento dos caracteres"
      ]
    },
    {
      "cell_type": "code",
      "execution_count": null,
      "metadata": {
        "id": "un26hE1drvtA"
      },
      "outputs": [],
      "source": [
        "numeros = \"0123456789\"\n",
        "letras = \"ABCDEFGHIJKLMNOPQRSTUVWXYZ\"\n",
        "lista_caracteres = numeros + letras\n",
        "lista_caracteres = [l for l in lista_caracteres]"
      ]
    },
    {
      "cell_type": "code",
      "execution_count": null,
      "metadata": {
        "colab": {
          "base_uri": "https://localhost:8080/"
        },
        "id": "4-8YIHlisDSD",
        "outputId": "899defde-4c5d-4515-9692-674f41b60507"
      },
      "outputs": [
        {
          "data": {
            "text/plain": [
              "(28, 28, 1)"
            ]
          },
          "execution_count": 65,
          "metadata": {},
          "output_type": "execute_result"
        }
      ],
      "source": [
        "caracteres[0].shape"
      ]
    },
    {
      "cell_type": "code",
      "execution_count": null,
      "metadata": {
        "colab": {
          "base_uri": "https://localhost:8080/"
        },
        "id": "207aJLDasLgg",
        "outputId": "2ec8e253-35f3-47ce-b741-dfcb75aea658"
      },
      "outputs": [
        {
          "data": {
            "text/plain": [
              "(30, 28, 28, 1)"
            ]
          },
          "execution_count": 66,
          "metadata": {},
          "output_type": "execute_result"
        }
      ],
      "source": [
        "caracteres.shape"
      ]
    },
    {
      "cell_type": "code",
      "execution_count": null,
      "metadata": {
        "colab": {
          "base_uri": "https://localhost:8080/"
        },
        "id": "e1jKecknsPeU",
        "outputId": "a693d696-69ff-463a-c04d-fb5201a96d23"
      },
      "outputs": [
        {
          "name": "stdout",
          "output_type": "stream",
          "text": [
            "1/1 [==============================] - 0s 121ms/step\n"
          ]
        }
      ],
      "source": [
        "previsoes = rede_neural.predict(caracteres)"
      ]
    },
    {
      "cell_type": "code",
      "execution_count": null,
      "metadata": {
        "colab": {
          "base_uri": "https://localhost:8080/"
        },
        "id": "3DC9SLRYsgcj",
        "outputId": "937b5169-7396-4d44-9d30-f25f70dbbb8d"
      },
      "outputs": [
        {
          "data": {
            "text/plain": [
              "(30, 36)"
            ]
          },
          "execution_count": 68,
          "metadata": {},
          "output_type": "execute_result"
        }
      ],
      "source": [
        "previsoes.shape"
      ]
    },
    {
      "cell_type": "code",
      "execution_count": null,
      "metadata": {
        "colab": {
          "base_uri": "https://localhost:8080/"
        },
        "id": "9ZWOCGHPslvo",
        "outputId": "7c531a4a-fa08-4a65-a170-3f10267b399d"
      },
      "outputs": [
        {
          "name": "stdout",
          "output_type": "stream",
          "text": [
            "G  ->  32.18938708305359\n"
          ]
        }
      ],
      "source": [
        "img_cp = img.copy()\n",
        "for (previsoes, (x, y, w, h)) in zip(previsoes, caixas):\n",
        "  i = np.argmax(previsoes)\n",
        "  #print(i)\n",
        "  probabilidade = previsoes[i]\n",
        "  #print(probabilidade)\n",
        "  caractere = lista_caracteres[i]\n",
        "  #print(caractere)\n",
        "\n",
        "  cv2.rectangle(img_cp, (x, y), (x + w, y + h), (255,100,0), 2)\n",
        "  cv2.putText(img_cp, caractere, (x - 10, y - 10), cv2.FONT_HERSHEY_SIMPLEX, 1.1, (0,0,255), 2)\n",
        "  print(caractere, ' -> ', probabilidade * 100)\n",
        "\n",
        "  cv2_imshow(img_cp)"
      ]
    },
    {
      "cell_type": "code",
      "execution_count": null,
      "metadata": {
        "id": "MM9NOfHevzzm"
      },
      "outputs": [],
      "source": [
        "def extrai_roi(img, margem=2):\n",
        "  roi = img[y - margem:y + h + margem, x - margem:x + w + margem]\n",
        "  return roi"
      ]
    },
    {
      "cell_type": "code",
      "execution_count": null,
      "metadata": {
        "id": "zyLumn1sv8Z9"
      },
      "outputs": [],
      "source": [
        "conts = encontrar_contornos(dilatado.copy())\n",
        "caracteres = []\n",
        "for c in conts:\n",
        "  (x, y, w, h) = cv2.boundingRect(c)\n",
        "  if (w >= l_min and w <= l_max) and (h >= a_min and h <= a_max):\n",
        "    processa_caixa(gray, x, y, w, h)"
      ]
    },
    {
      "cell_type": "code",
      "execution_count": null,
      "metadata": {
        "id": "bOwIBq1ZwLIz"
      },
      "outputs": [],
      "source": [
        "caixas = [b[1] for b in caracteres]\n",
        "caracteres = np.array([c[0] for c in caracteres], dtype=\"float32\")\n",
        "previsoes = rede_neural.predict(caracteres)"
      ]
    },
    {
      "cell_type": "code",
      "execution_count": null,
      "metadata": {
        "id": "GX49YGKywZvZ"
      },
      "outputs": [],
      "source": [
        "img_cp = img.copy()\n",
        "for (previsoes, (x, y, w, h)) in zip(previsoes, caixas):\n",
        "  i = np.argmax(previsoes)\n",
        "  probabilidade = previsoes[i]\n",
        "  caractere = lista_caracteres[i]\n",
        "\n",
        "  cv2.rectangle(img_cp, (x, y), (x + w, y + h), (255,100,0), 2)\n",
        "  cv2.putText(img_cp, caractere, (x - 10, y - 10), cv2.FONT_HERSHEY_SIMPLEX, 1.1, (0,0,255), 2)\n",
        "  print(caractere, ' -> ', probabilidade * 100)\n",
        "\n",
        "  cv2_imshow(img_cp)"
      ]
    }
  ],
  "metadata": {
    "colab": {
      "provenance": [],
      "toc_visible": true
    },
    "kernelspec": {
      "display_name": "Python 3",
      "name": "python3"
    },
    "language_info": {
      "name": "python"
    }
  },
  "nbformat": 4,
  "nbformat_minor": 0
}
